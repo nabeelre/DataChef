{
 "cells": [
  {
   "cell_type": "code",
   "execution_count": 53,
   "metadata": {},
   "outputs": [],
   "source": [
    "import numpy as np\n",
    "import matplotlib.pyplot as plt\n",
    "from uncertainties import unumpy\n",
    "\n",
    "from DataChef import ingredient_functions as ing_funcs\n",
    "from DataChef import mix_functions as mix_funcs\n",
    "from DataChef.recipe import Recipe\n",
    "from DataChef.ingredient import Ingredient"
   ]
  },
  {
   "cell_type": "markdown",
   "metadata": {},
   "source": [
    "## Welcome to the DataChef tutorial! 📊👨‍🍳\n",
    "### Let's cook up some fake data 😋"
   ]
  },
  {
   "cell_type": "markdown",
   "metadata": {},
   "source": [
    "Let's cook up a noisy sine wave! We'll start by collecting our ingredients:\n",
    "\n",
    "We'll ask for a sine wave with no phase shift, amplitude 4.5, and period 3pi"
   ]
  },
  {
   "cell_type": "code",
   "execution_count": 54,
   "metadata": {},
   "outputs": [],
   "source": [
    "ing_sine = Ingredient(ing_funcs.sinusoid, \"sinusoid\", phase=0, amplitude=4.5, period=3*np.pi)"
   ]
  },
  {
   "cell_type": "markdown",
   "metadata": {},
   "source": [
    "The noise we'll add will be basic gaussian noise with mean 1 and spread 1"
   ]
  },
  {
   "cell_type": "code",
   "execution_count": 55,
   "metadata": {},
   "outputs": [],
   "source": [
    "ing_gauss = Ingredient(ing_funcs.gaussian, \"gaussian noise\", mean=1, stdev=1)"
   ]
  },
  {
   "cell_type": "markdown",
   "metadata": {},
   "source": [
    "Now we'll combine our ingredients into a recipe..."
   ]
  },
  {
   "cell_type": "code",
   "execution_count": 56,
   "metadata": {},
   "outputs": [],
   "source": [
    "our_first_recipe = Recipe()\n",
    "our_first_recipe.add_ingredient(ing_sine, mix_funcs.add)\n",
    "our_first_recipe.add_ingredient(ing_gauss, mix_funcs.add)"
   ]
  },
  {
   "cell_type": "markdown",
   "metadata": {},
   "source": [
    "And finally, we'll cook them all together, plot the results, and write them to disk!"
   ]
  },
  {
   "cell_type": "code",
   "execution_count": 57,
   "metadata": {},
   "outputs": [
    {
     "ename": "ValueError",
     "evalue": "maximum supported dimension for an ndarray is 32, found 200",
     "output_type": "error",
     "traceback": [
      "\u001b[0;31m---------------------------------------------------------------------------\u001b[0m",
      "\u001b[0;31mValueError\u001b[0m                                Traceback (most recent call last)",
      "\u001b[1;32m/Users/raeholcomb/Documents/GitHub/DataChef/DataChef/tutorial.ipynb Cell 10'\u001b[0m in \u001b[0;36m<cell line: 2>\u001b[0;34m()\u001b[0m\n\u001b[1;32m      <a href='vscode-notebook-cell:/Users/raeholcomb/Documents/GitHub/DataChef/DataChef/tutorial.ipynb#ch0000009?line=0'>1</a>\u001b[0m x \u001b[39m=\u001b[39m np\u001b[39m.\u001b[39mlinspace(\u001b[39m-\u001b[39m\u001b[39m25\u001b[39m,\u001b[39m25\u001b[39m,\u001b[39m200\u001b[39m)\n\u001b[0;32m----> <a href='vscode-notebook-cell:/Users/raeholcomb/Documents/GitHub/DataChef/DataChef/tutorial.ipynb#ch0000009?line=1'>2</a>\u001b[0m our_first_recipe\u001b[39m.\u001b[39;49mplot(x)\n\u001b[1;32m      <a href='vscode-notebook-cell:/Users/raeholcomb/Documents/GitHub/DataChef/DataChef/tutorial.ipynb#ch0000009?line=2'>3</a>\u001b[0m plt\u001b[39m.\u001b[39mshow()\n",
      "File \u001b[0;32m/opt/anaconda3/envs/codeastro/lib/python3.10/site-packages/DataChef/recipe.py:28\u001b[0m, in \u001b[0;36mRecipe.plot\u001b[0;34m(self, grid, seed)\u001b[0m\n\u001b[1;32m     27\u001b[0m \u001b[39mdef\u001b[39;00m \u001b[39mplot\u001b[39m(\u001b[39mself\u001b[39m, grid, seed\u001b[39m=\u001b[39m\u001b[39mNone\u001b[39;00m):\n\u001b[0;32m---> 28\u001b[0m     final, _, _ \u001b[39m=\u001b[39m Recipe\u001b[39m.\u001b[39;49mcook_recipe(\u001b[39mself\u001b[39;49m, grid, seed)\n\u001b[1;32m     29\u001b[0m     plt\u001b[39m.\u001b[39mplot(grid, final, marker\u001b[39m=\u001b[39m\u001b[39m'\u001b[39m\u001b[39m.\u001b[39m\u001b[39m'\u001b[39m, c\u001b[39m=\u001b[39m\u001b[39m'\u001b[39m\u001b[39mk\u001b[39m\u001b[39m'\u001b[39m)\n\u001b[1;32m     30\u001b[0m     ing_labels \u001b[39m=\u001b[39m \u001b[39m\"\u001b[39m\u001b[39m\"\u001b[39m\n",
      "File \u001b[0;32m/opt/anaconda3/envs/codeastro/lib/python3.10/site-packages/DataChef/recipe.py:53\u001b[0m, in \u001b[0;36mRecipe.cook_recipe\u001b[0;34m(self, grid, seed, export_eval, export_cum)\u001b[0m\n\u001b[1;32m     50\u001b[0m \u001b[39m# loop through the ingredients and add them in\u001b[39;00m\n\u001b[1;32m     51\u001b[0m \u001b[39mfor\u001b[39;00m idx, (ing, mix) \u001b[39min\u001b[39;00m \u001b[39menumerate\u001b[39m(\u001b[39mzip\u001b[39m(\u001b[39mself\u001b[39m\u001b[39m.\u001b[39mingredients[\u001b[39m1\u001b[39m:], \u001b[39mself\u001b[39m\u001b[39m.\u001b[39mmix_funcs[\u001b[39m1\u001b[39m:])) :\n\u001b[1;32m     52\u001b[0m     \u001b[39m# evaluate the ingredient on the grid\u001b[39;00m\n\u001b[0;32m---> 53\u001b[0m     y \u001b[39m=\u001b[39m ing\u001b[39m.\u001b[39;49meval(grid)\n\u001b[1;32m     54\u001b[0m     ings_evaluated[idx\u001b[39m+\u001b[39m\u001b[39m1\u001b[39m,:] \u001b[39m=\u001b[39m y\n\u001b[1;32m     56\u001b[0m     \u001b[39m# mix the ingredient into the dish\u001b[39;00m\n",
      "File \u001b[0;32m/opt/anaconda3/envs/codeastro/lib/python3.10/site-packages/DataChef/ingredient.py:15\u001b[0m, in \u001b[0;36mIngredient.eval\u001b[0;34m(self, x)\u001b[0m\n\u001b[1;32m     13\u001b[0m \u001b[39mdef\u001b[39;00m \u001b[39meval\u001b[39m(\u001b[39mself\u001b[39m, x):\n\u001b[1;32m     14\u001b[0m     \u001b[39m\"\"\"Evaluates the functional form of the ingredient on an array of x values.\"\"\"\u001b[39;00m\n\u001b[0;32m---> 15\u001b[0m     \u001b[39mreturn\u001b[39;00m \u001b[39mself\u001b[39;49m\u001b[39m.\u001b[39;49mfunc(x, \u001b[39m*\u001b[39;49m\u001b[39m*\u001b[39;49m\u001b[39mself\u001b[39;49m\u001b[39m.\u001b[39;49mkwargs)\n",
      "File \u001b[0;32m/opt/anaconda3/envs/codeastro/lib/python3.10/site-packages/DataChef/ingredient_functions.py:19\u001b[0m, in \u001b[0;36mgaussian\u001b[0;34m(x, mean, stdev)\u001b[0m\n\u001b[1;32m     18\u001b[0m \u001b[39mdef\u001b[39;00m \u001b[39mgaussian\u001b[39m(x, mean, stdev):\n\u001b[0;32m---> 19\u001b[0m     \u001b[39mreturn\u001b[39;00m np\u001b[39m.\u001b[39;49mrandom\u001b[39m.\u001b[39;49mnormal(loc\u001b[39m=\u001b[39;49mmean, scale\u001b[39m=\u001b[39;49mstdev, size\u001b[39m=\u001b[39;49mx)\n",
      "File \u001b[0;32mmtrand.pyx:1510\u001b[0m, in \u001b[0;36mnumpy.random.mtrand.RandomState.normal\u001b[0;34m()\u001b[0m\n",
      "File \u001b[0;32m_common.pyx:615\u001b[0m, in \u001b[0;36mnumpy.random._common.cont\u001b[0;34m()\u001b[0m\n",
      "\u001b[0;31mValueError\u001b[0m: maximum supported dimension for an ndarray is 32, found 200"
     ]
    }
   ],
   "source": [
    "x = np.linspace(-25,25,200)\n",
    "our_first_recipe.plot(x)\n",
    "plt.show()"
   ]
  },
  {
   "cell_type": "markdown",
   "metadata": {},
   "source": [
    "Alright! That was cool, but let's start again with some different ingredients and try something more ambitious\n",
    "\n",
    "Here's a parabola, a cubic function, and some uniform white noise. You can see all their parameters in their declarations"
   ]
  },
  {
   "cell_type": "code",
   "execution_count": 59,
   "metadata": {},
   "outputs": [],
   "source": [
    "ing_parabola = Ingredient(ing_funcs.parabola, \"parabola\", a=-2, b=0, c=3)\n",
    "ing_cubic = Ingredient(ing_funcs.cubic, \"cubic\", a=2, b=0, c=0, d=-5)\n",
    "ing_uniform = Ingredient(ing_funcs.uniform, \"white noise\", shift=2, scale=2)"
   ]
  },
  {
   "cell_type": "markdown",
   "metadata": {},
   "source": [
    "Now add them to a recipe..."
   ]
  },
  {
   "cell_type": "code",
   "execution_count": 60,
   "metadata": {},
   "outputs": [],
   "source": [
    "rec1 = Recipe()\n",
    "rec1.add_ingredient(ing_parabola, mix_funcs.add)"
   ]
  },
  {
   "cell_type": "markdown",
   "metadata": {},
   "source": [
    "We can combine ingredients in more ways than just adding! We'll multiply our white noise on to the parabola then plot it to see our progress"
   ]
  },
  {
   "cell_type": "code",
   "execution_count": 61,
   "metadata": {},
   "outputs": [
    {
     "ename": "TypeError",
     "evalue": "Recipe.plot() got an unexpected keyword argument 'marker'",
     "output_type": "error",
     "traceback": [
      "\u001b[0;31m---------------------------------------------------------------------------\u001b[0m",
      "\u001b[0;31mTypeError\u001b[0m                                 Traceback (most recent call last)",
      "\u001b[1;32m/Users/raeholcomb/Documents/GitHub/DataChef/DataChef/tutorial.ipynb Cell 16'\u001b[0m in \u001b[0;36m<cell line: 2>\u001b[0;34m()\u001b[0m\n\u001b[1;32m      <a href='vscode-notebook-cell:/Users/raeholcomb/Documents/GitHub/DataChef/DataChef/tutorial.ipynb#ch0000015?line=0'>1</a>\u001b[0m rec1\u001b[39m.\u001b[39madd_ingredient(ing_uniform, mix_funcs\u001b[39m.\u001b[39mmultiply)\n\u001b[0;32m----> <a href='vscode-notebook-cell:/Users/raeholcomb/Documents/GitHub/DataChef/DataChef/tutorial.ipynb#ch0000015?line=1'>2</a>\u001b[0m rec1\u001b[39m.\u001b[39;49mplot(x, marker\u001b[39m=\u001b[39;49m\u001b[39m'\u001b[39;49m\u001b[39m'\u001b[39;49m)\n\u001b[1;32m      <a href='vscode-notebook-cell:/Users/raeholcomb/Documents/GitHub/DataChef/DataChef/tutorial.ipynb#ch0000015?line=2'>3</a>\u001b[0m plt\u001b[39m.\u001b[39mshow()\n",
      "\u001b[0;31mTypeError\u001b[0m: Recipe.plot() got an unexpected keyword argument 'marker'"
     ]
    }
   ],
   "source": [
    "rec1.add_ingredient(ing_uniform, mix_funcs.multiply)\n",
    "rec1.plot(x, marker='')\n",
    "plt.show()"
   ]
  },
  {
   "cell_type": "markdown",
   "metadata": {},
   "source": [
    "Pretty cool, but we can do better! Let's convolve in the cubic function 🤯"
   ]
  },
  {
   "cell_type": "code",
   "execution_count": null,
   "metadata": {},
   "outputs": [],
   "source": [
    "rec1.add_ingredient(ing_cubic, mix_funcs.convolve)\n",
    "rec1.plot(x, marker='')\n",
    "plt.show()"
   ]
  },
  {
   "cell_type": "markdown",
   "metadata": {},
   "source": [
    "I don't know what phenomena this can model but it looks pretty cool!\n",
    "\n",
    "Let's try to actually model something scientific...\n",
    "\n",
    "We've built in support for creating analytical models of gravitational wave signals\n",
    "\n",
    "This will be simulated LISA signal from a BH-BH binary inspiral where each has M=10 Msun and a=0"
   ]
  },
  {
   "cell_type": "code",
   "execution_count": null,
   "metadata": {},
   "outputs": [],
   "source": [
    "gw = Ingredient(ing_funcs.gw_signal, \"BH-BH binary\")"
   ]
  },
  {
   "cell_type": "markdown",
   "metadata": {},
   "source": [
    "Let's add it to a recipe and cook up some black holes!"
   ]
  },
  {
   "cell_type": "code",
   "execution_count": null,
   "metadata": {},
   "outputs": [],
   "source": [
    "t = np.linspace(0,1024,1024)\n",
    "rec2 = Recipe()\n",
    "rec2.add_ingredient(gw, mix_funcs.add)\n",
    "rec2.plot(t, marker='')"
   ]
  },
  {
   "cell_type": "markdown",
   "metadata": {},
   "source": [
    "All real measurements are subject to noise, so we can't forget to consider that\n",
    "\n",
    "This is characteristic of a random 5% measurement error "
   ]
  },
  {
   "cell_type": "code",
   "execution_count": null,
   "metadata": {},
   "outputs": [],
   "source": [
    "ing_uniform2 = Ingredient(ing_funcs.uniform, \"white noise\", shift=0, scale=0.05)\n",
    "rec2.add_ingredient(ing_uniform2, mix_funcs.multiply)\n",
    "rec2.plot(t, marker='')"
   ]
  },
  {
   "cell_type": "markdown",
   "metadata": {},
   "source": [
    "DataChef can also handle error propagation for you! It does this with the help of the __[uncertainties](https://pythonhosted.org/uncertainties/index.html)__ python package. \n",
    "\n",
    "You can use the `error_func` keyword when defining an ingredient to provide a function that will generate uncertainties for each data point and propagate those uncertainties as you cook up a recipe. Alternatively, you can set the uncertainties by hand by passing an array to the `yerr` keyword in `Ingredient.eval`.\n",
    "\n",
    "Here we repeat a recipe from earlier in this tutorial, but now with uncertainties. First, define our ingredients, which will have uncertainties pulled form a uniform distribution. "
   ]
  },
  {
   "cell_type": "code",
   "execution_count": null,
   "metadata": {},
   "outputs": [],
   "source": [
    "# define some ingredients\n",
    "ing_parabola = Ingredient(ing_funcs.parabola, \"parabola\", a=-2, b=0, c=3, \n",
    "                            error_func=ing_funcs.uniform, error_func_kwargs={'scale':5})\n",
    "ing_cubic = Ingredient(ing_funcs.cubic, \"cubic\", a=2, b=0, c=0, d=-5,\n",
    "                            error_func=ing_funcs.uniform, error_func_kwargs={'scale':5})\n",
    "ing_uniform = Ingredient(ing_funcs.uniform, \"white noise\", shift=2, scale=2,\n",
    "                            error_func=ing_funcs.uniform, error_func_kwargs={'scale':5})\n"
   ]
  },
  {
   "cell_type": "code",
   "execution_count": null,
   "metadata": {},
   "outputs": [],
   "source": [
    "# make a simple recipe\n",
    "rec3 = Recipe()\n",
    "rec3.add_ingredient(ing_parabola, mix_funcs.add)\n",
    "\n",
    "\n",
    "# rec3.add_ingredient(ing_uniform, mix_funcs.multiply)\n",
    "# rec3.add_ingredient(ing_cubic, mix_funcs.convolve)\n"
   ]
  },
  {
   "cell_type": "code",
   "execution_count": null,
   "metadata": {},
   "outputs": [],
   "source": [
    "# cook the recipe and inspect the errors!\n",
    "x = np.linspace(1,11,10)\n",
    "ings_evaluated, cumulative, errs_evaluated, errs_cumulative = rec3.cook_recipe(x)\n",
    "print(y)"
   ]
  }
 ],
 "metadata": {
  "kernelspec": {
   "display_name": "Python 3.10.4 ('codeastro')",
   "language": "python",
   "name": "python3"
  },
  "language_info": {
   "codemirror_mode": {
    "name": "ipython",
    "version": 3
   },
   "file_extension": ".py",
   "mimetype": "text/x-python",
   "name": "python",
   "nbconvert_exporter": "python",
   "pygments_lexer": "ipython3",
   "version": "3.10.4"
  },
  "orig_nbformat": 4,
  "vscode": {
   "interpreter": {
    "hash": "ec0b3b86017345fe542bc22b333a4842c00e5331a8ac9b337317645df675719b"
   }
  }
 },
 "nbformat": 4,
 "nbformat_minor": 2
}
