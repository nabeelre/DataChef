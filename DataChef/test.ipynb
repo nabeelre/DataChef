{
 "cells": [
  {
   "cell_type": "code",
   "execution_count": 1,
   "metadata": {},
   "outputs": [],
   "source": [
    "import numpy as np"
   ]
  },
  {
   "cell_type": "code",
   "execution_count": 9,
   "metadata": {},
   "outputs": [],
   "source": [
    "import mix_functions as mix_funcs\n",
    "import ingredient_functions as ing_funcs"
   ]
  },
  {
   "cell_type": "code",
   "execution_count": 19,
   "metadata": {},
   "outputs": [],
   "source": [
    "from recipe import Recipe\n",
    "from ingredient import Ingredient\n"
   ]
  },
  {
   "cell_type": "code",
   "execution_count": 31,
   "metadata": {},
   "outputs": [
    {
     "data": {
      "text/plain": [
       "'line2'"
      ]
     },
     "execution_count": 31,
     "metadata": {},
     "output_type": "execute_result"
    }
   ],
   "source": [
    "test_rec = Recipe()\n",
    "\n",
    "ing_line  = Ingredient(ing_funcs.line, \"line\",m=10, b=1)\n",
    "ing_line2  = Ingredient(ing_funcs.line, \"line2\",m=5, b=1)\n",
    "test_rec.add_ingredient(ing_line,mix_funcs.add)\n",
    "test_rec.add_ingredient(ing_line,mix_funcs.add)\n",
    "test_rec.add_ingredient(ing_line2,mix_funcs.add,3)\n",
    "test_rec.ingredients[2].label"
   ]
  },
  {
   "cell_type": "markdown",
   "metadata": {},
   "source": []
  },
  {
   "cell_type": "code",
   "execution_count": null,
   "metadata": {},
   "outputs": [],
   "source": []
  }
 ],
 "metadata": {
  "kernelspec": {
   "display_name": "Python 3.10.4 ('codeastro')",
   "language": "python",
   "name": "python3"
  },
  "language_info": {
   "codemirror_mode": {
    "name": "ipython",
    "version": 3
   },
   "file_extension": ".py",
   "mimetype": "text/x-python",
   "name": "python",
   "nbconvert_exporter": "python",
   "pygments_lexer": "ipython3",
   "version": "3.10.4"
  },
  "orig_nbformat": 4,
  "vscode": {
   "interpreter": {
    "hash": "75840a14b5994db8b311643fbc3f6e6f27f5df941b9bc4fed688fd2198c158af"
   }
  }
 },
 "nbformat": 4,
 "nbformat_minor": 2
}
